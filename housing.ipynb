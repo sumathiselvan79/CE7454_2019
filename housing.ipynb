{
  "nbformat": 4,
  "nbformat_minor": 0,
  "metadata": {
    "colab": {
      "name": "Untitled0.ipynb",
      "provenance": [],
      "authorship_tag": "ABX9TyPLnVMZnOWFnDLO2vvjbxFN",
      "include_colab_link": true
    },
    "kernelspec": {
      "name": "python3",
      "display_name": "Python 3"
    }
  },
  "cells": [
    {
      "cell_type": "markdown",
      "metadata": {
        "id": "view-in-github",
        "colab_type": "text"
      },
      "source": [
        "<a href=\"https://colab.research.google.com/github/sumathiselvan79/CE7454_2019/blob/master/housing.ipynb\" target=\"_parent\"><img src=\"https://colab.research.google.com/assets/colab-badge.svg\" alt=\"Open In Colab\"/></a>"
      ]
    },
    {
      "cell_type": "code",
      "metadata": {
        "id": "iPU2fNQVW2to"
      },
      "source": [
        "import os\n",
        "import tarfile\n",
        "import urllib\n",
        "DOWNLOAD_ROOT = \"https://raw.githubusercontent.com/ageron/handson-ml2/master/\"\n",
        "HOUSING_PATH = os.path.join(\"datasets\", \"housing\")\n",
        "HOUSING_URL = DOWNLOAD_ROOT + \"datasets/housing/housing.tgz\"\n",
        "def fetch_housing_data(housing_url=HOUSING_URL, housing_path=HOUSING_PATH):\n",
        " os.makedirs(housing_path, exist_ok=True)\n",
        " tgz_path = os.path.join(housing_path, \"housing.tgz\")\n",
        " urllib.request.urlretrieve(housing_url, tgz_path)\n",
        " housing_tgz = tarfile.open(tgz_path)\n",
        " housing_tgz.extractall(path=housing_path)\n",
        " housing_tgz.close()"
      ],
      "execution_count": 1,
      "outputs": []
    }
  ]
}